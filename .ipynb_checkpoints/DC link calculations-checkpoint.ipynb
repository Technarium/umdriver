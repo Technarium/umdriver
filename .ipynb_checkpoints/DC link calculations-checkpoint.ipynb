{
 "cells": [
  {
   "cell_type": "markdown",
   "metadata": {},
   "source": [
    "# DC link capacitor selection"
   ]
  },
  {
   "cell_type": "code",
   "execution_count": 57,
   "metadata": {},
   "outputs": [
    {
     "name": "stdout",
     "output_type": "stream",
     "text": [
      "Populating the interactive namespace from numpy and matplotlib\n",
      "Ripple current: 4.24A\n"
     ]
    },
    {
     "data": {
      "image/png": "[encoded data removed]",
      "text/plain": [
       "<matplotlib.figure.Figure at 0x7fce72cd9550>"
      ]
     },
     "metadata": {},
     "output_type": "display_data"
    }
   ],
   "source": [
    "%pylab inline\n",
    "\n",
    "Vbus = 240 * sqrt(2)\n",
    "L = 1e-3\n",
    "fpwm = 20e3\n",
    "\n",
    "C = arange(1e-6, 15e-6, 0.1e-6)\n",
    "\n",
    "deltaV = Vbus / (32 * L * C * fpwm**2)\n",
    "deltaI = 0.25 * Vbus / (fpwm * L)\n",
    "\n",
    "plot(C*1000000, deltaV / Vbus * 100)\n",
    "xlabel(\"Capacitance, uF\")\n",
    "ylabel(\"Ripple, V\")\n",
    "title(\"DC Bus ripple\")\n",
    "print(\"Ripple current: \" + str(round(deltaI, 2)) + \"A\")\n"
   ]
  },
  {
   "cell_type": "code",
   "execution_count": 50,
   "metadata": {},
   "outputs": [
    {
     "name": "stdout",
     "output_type": "stream",
     "text": [
      "Capacitance for line ripple reduction: 6000.0uF\n"
     ]
    }
   ],
   "source": [
    "I = 6.0\n",
    "deltaV = 10\n",
    "f_ac = 100.0\n",
    "\n",
    "C = I / (deltaV * f_ac)\n",
    "\n",
    "print (\"Capacitance for line ripple reduction: \" + str(round(C*1e6)) + \"uF\")"
   ]
  },
  {
   "cell_type": "markdown",
   "metadata": {},
   "source": [
    "# Switching losses"
   ]
  },
  {
   "cell_type": "code",
   "execution_count": 48,
   "metadata": {},
   "outputs": [
    {
     "name": "stdout",
     "output_type": "stream",
     "text": [
      "Switcing losses - 6.7W per channel\n"
     ]
    }
   ],
   "source": [
    "#At 6A collector current\n",
    "\n",
    "Eon = 225e-6\n",
    "Eoff = 110e-6\n",
    "f_pwm = 20e3\n",
    "P = (Eon + Eoff) * f_pwm\n",
    "\n",
    "print(\"Switcing losses - \" + str(round(P, 2)) + \"W per channel\")"
   ]
  }
 ],
 "metadata": {
  "kernelspec": {
   "display_name": "Python 2",
   "language": "python",
   "name": "python2"
  },
  "language_info": {
   "codemirror_mode": {
    "name": "ipython",
    "version": 2
   },
   "file_extension": ".py",
   "mimetype": "text/x-python",
   "name": "python",
   "nbconvert_exporter": "python",
   "pygments_lexer": "ipython2",
   "version": "2.7.17"
  }
 },
 "nbformat": 4,
 "nbformat_minor": 2
}
